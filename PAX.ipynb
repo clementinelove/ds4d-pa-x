{
 "cells": [
  {
   "cell_type": "markdown",
   "metadata": {
    "pycharm": {
     "name": "#%% md\n"
    }
   },
   "source": [
    "# PA-X Peace Agreement Group Project - DS4D Assignment 2"
   ]
  },
  {
   "cell_type": "markdown",
   "metadata": {
    "pycharm": {
     "name": "#%% md\n"
    }
   },
   "source": [
    "Before we begin any analysis, import all peace agreement data using pandas."
   ]
  },
  {
   "cell_type": "code",
   "execution_count": 8,
   "metadata": {
    "pycharm": {
     "is_executing": false
    }
   },
   "outputs": [],
   "source": [
    "import pandas as pd\n",
    "\n",
    "pax_all_agreement_data = pd.read_csv('pax_all_agreements_data.csv')"
   ]
  },
  {
   "cell_type": "markdown",
   "metadata": {
    "pycharm": {
     "name": "#%% md\n"
    }
   },
   "source": [
    "## Describe\n",
    "\n",
    "- what is the general type of the data (tabular, network, geographical, textual etc.),\n",
    "- how large and complex is it (rows/columns, size, variation, structure)\n",
    "- What fields and data types are present (max/min, levels for categorical values).\n",
    "- Links between this data and other data (e.g. foreign keys, unique ids)\n",
    "- Summary statistics about the data - how many people, what time frame, field\n",
    "averages etc.\n",
    "- How does the data relate to the questions that the data owner has discussed with\n",
    "you?"
   ]
  },
  {
   "cell_type": "markdown",
   "metadata": {
    "pycharm": {
     "name": "#%% md\n"
    }
   },
   "source": [
    "The peace agreement database (also known as PA-X Database) provides a downloadable list of all agreements in .csv or \n",
    ".xslx format."
   ]
  },
  {
   "cell_type": "code",
   "execution_count": 9,
   "metadata": {
    "pycharm": {
     "is_executing": false,
     "name": "#%%\n"
    }
   },
   "outputs": [
    {
     "name": "stdout",
     "output_type": "stream",
     "text": [
      "rows: 1789, columns: 266\n"
     ]
    }
   ],
   "source": [
    "all_agreement_data_dimension = pax_all_agreement_data.shape\n",
    "print(\"rows: {}, columns: {}\".format(all_agreement_data_dimension[0], all_agreement_data_dimension[1]))"
   ]
  },
  {
   "cell_type": "markdown",
   "metadata": {
    "pycharm": {
     "name": "#%% md\n"
    }
   },
   "source": [
    "<!-- How large and complex is it (rows/columns, size, variation, structure) -->\n",
    "The database has record 1789 peace agreements in total and each record comes with 266 columns."
   ]
  },
  {
   "cell_type": "markdown",
   "metadata": {},
   "source": [
    "<!-- What fields and data types are present (max/min, levels for categorical values) -->"
   ]
  },
  {
   "cell_type": "markdown",
   "metadata": {
    "pycharm": {
     "name": "#%% md\n"
    }
   },
   "source": [
    "<!-- Links between this data and other data (e.g. foreign keys, unique ids)-->"
   ]
  },
  {
   "cell_type": "markdown",
   "metadata": {
    "pycharm": {
     "name": "#%% md\n"
    }
   },
   "source": [
    "<!-- Summary statistics about the data - how many people, what time frame, field\n",
    "averages etc. -->"
   ]
  },
  {
   "cell_type": "markdown",
   "metadata": {},
   "source": [
    "<!-- How does the data relate to the questions that the data owner has discussed with\n",
    "you? -->"
   ]
  },
  {
   "cell_type": "markdown",
   "metadata": {
    "pycharm": {
     "name": "#%% md\n"
    }
   },
   "source": [
    "## Explore: carry out a deeper exploration of the data. This includes looking at individual\n",
    "fields/variables to see the distribution of values they take (e.g. evenly distributed, bell curves, bi-modal) or how they are distributed in time. It also includes relationships between variables in your dataset: are there correlations? In which direction? Complex curves? We would expect to see roughly:\n",
    "- 4-5 exploratory visualisations, presented in a readable form, with an explanation about what you have found\n",
    "- 1-2 relationships between variables analysed\n",
    "- Ideas about trends, outliers, clusters\n",
    "- Reference to statistics, i.e. a sense of which relationships are significant, and what\n",
    "claims you can back up."
   ]
  },
  {
   "cell_type": "markdown",
   "metadata": {
    "pycharm": {
     "name": "#%% md\n"
    }
   },
   "source": [
    "## Reflect and Hypothesise: What do you think might be behind the relationships and\n",
    "distributions that you have found? How does your data relate to the world? In short, what hypotheses came up as you explored the data, and how would you go about testing them? We would expect to see:\n",
    "- A 200 word reflection on the data\n",
    "- 3-5 hypotheses with an explanation of:\n",
    "  - What your hypothesis is\n",
    "  - why you think that (referring to your graphs)\n",
    "  - How you could go about testing it (note that this may include: further studies,\n",
    "\n",
    "asking the data owner, using some advanced algorithms, checking each data point individually, etc..)\n",
    "    \n",
    "**NOTE**: You don’t have to actually test the hypotheses - you just have to demonstrate that you have plausibly thought about how you would test them."
   ]
  },
  {
   "cell_type": "code",
   "execution_count": 9,
   "metadata": {
    "pycharm": {
     "is_executing": false
    }
   },
   "outputs": [],
   "source": []
  }
 ],
 "metadata": {
  "kernelspec": {
   "display_name": "Python 3",
   "language": "python",
   "name": "python3"
  },
  "language_info": {
   "codemirror_mode": {
    "name": "ipython",
    "version": 3
   },
   "file_extension": ".py",
   "mimetype": "text/x-python",
   "name": "python",
   "nbconvert_exporter": "python",
   "pygments_lexer": "ipython3",
   "version": "3.7.4"
  },
  "pycharm": {
   "stem_cell": {
    "cell_type": "raw",
    "source": [],
    "metadata": {
     "collapsed": false
    }
   }
  }
 },
 "nbformat": 4,
 "nbformat_minor": 2
}